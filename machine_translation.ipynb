{
 "cells": [
  {
   "cell_type": "markdown",
   "metadata": {},
   "source": [
    "# ライブラリのimport\n",
    "Pytorch，Transformers．"
   ]
  },
  {
   "cell_type": "code",
   "execution_count": 32,
   "metadata": {},
   "outputs": [],
   "source": [
    "import torch\n",
    "from transformers import MarianMTModel\n",
    "from transformers.models.marian.tokenization_marian import MarianTokenizer"
   ]
  },
  {
   "cell_type": "markdown",
   "metadata": {},
   "source": [
    "# モデルとTokenizerの読み込み\n",
    "モデルと，TransformersライブラリのTokenizerを読み込む．"
   ]
  },
  {
   "cell_type": "code",
   "execution_count": 21,
   "metadata": {},
   "outputs": [
    {
     "name": "stderr",
     "output_type": "stream",
     "text": [
      "/usr/local/lib/python3.10/site-packages/transformers/models/marian/tokenization_marian.py:194: UserWarning: Recommended: pip install sacremoses.\n",
      "  warnings.warn(\"Recommended: pip install sacremoses.\")\n"
     ]
    }
   ],
   "source": [
    "tokenizer = MarianTokenizer.from_pretrained(\"Helsinki-NLP/opus-mt-en-jap\")\n",
    "model = MarianMTModel.from_pretrained(\"Helsinki-NLP/opus-mt-en-jap\")\n",
    "# model.cuda() # GPU対応"
   ]
  },
  {
   "cell_type": "markdown",
   "metadata": {},
   "source": [
    "# 翻訳"
   ]
  },
  {
   "cell_type": "code",
   "execution_count": 29,
   "metadata": {},
   "outputs": [
    {
     "data": {
      "text/plain": [
       "['すべて の 事 は 人 を 飽 か せ, 人 は これ を 語 る こと が でき な い. 目 は 見 る こと に 飽き る こと が な く, 耳 は 聞 く こと に 満足 する こと が な い.',\n",
       " 'また 彼 の 家 の 長老 たち も, 彼 の かたわら に 立 っ て 彼 を 地 から 起 そ う と し た が, 彼 は 起き よう と は せ ず, また 彼 ら と 一緒 に 食事 を し な かっ た.',\n",
       " 'われわれ は, さまざま の 尊 い 貨財 を 得, 奪い取 っ た 物 で, われわれ の 家 を 満た そう.']"
      ]
     },
     "execution_count": 29,
     "metadata": {},
     "output_type": "execute_result"
    }
   ],
   "source": [
    "# src_text = [\n",
    "#     \">>fra<< this is a sentence in english that we want to translate to french\",\n",
    "#     \">>por<< This should go to portuguese\",\n",
    "#     \">>esp<< And this to Spanish\",\n",
    "# ]\n",
    "src_text = [\n",
    "    '>>jap<< All things are full of labour; man cannot utter it: the eye is not satisfied with seeing, nor the ear filled with hearing.',\n",
    "    '>>jap<< The elders of his house arose beside him, to raise him up from the earth: but he would not, neither did he eat bread with them.',\n",
    "    '>>jap<< We shall find all precious substance, we shall fill our houses with spoil.'\n",
    "]\n",
    "\n",
    "translated = model.generate(**tokenizer(src_text, return_tensors=\"pt\", padding=True))\n",
    "[tokenizer.decode(t, skip_special_tokens=True) for t in translated]"
   ]
  }
 ],
 "metadata": {
  "kernelspec": {
   "display_name": "Python 3.10.8 64-bit",
   "language": "python",
   "name": "python3"
  },
  "language_info": {
   "codemirror_mode": {
    "name": "ipython",
    "version": 3
   },
   "file_extension": ".py",
   "mimetype": "text/x-python",
   "name": "python",
   "nbconvert_exporter": "python",
   "pygments_lexer": "ipython3",
   "version": "3.10.8"
  },
  "orig_nbformat": 4,
  "vscode": {
   "interpreter": {
    "hash": "949777d72b0d2535278d3dc13498b2535136f6dfe0678499012e853ee9abcab1"
   }
  }
 },
 "nbformat": 4,
 "nbformat_minor": 2
}
